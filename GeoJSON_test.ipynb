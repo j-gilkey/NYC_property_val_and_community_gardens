{
 "cells": [
  {
   "cell_type": "code",
   "execution_count": 5,
   "metadata": {},
   "outputs": [
    {
     "name": "stdout",
     "output_type": "stream",
     "text": [
      "              address  appbbl  block borough  lot  \\\n",
      "0  273 EAST 10 STREET       0    438      MN   41   \n",
      "1    78 EAST 2 STREET       0    444      MN   47   \n",
      "2  106 EAST 10 STREET       0    465      MN   10   \n",
      "3  110 EAST 10 STREET       0    465      MN   12   \n",
      "4   314 EAST 9 STREET       0    450      MN   12   \n",
      "\n",
      "                                            geometry  \n",
      "0  MULTIPOLYGON (((-73.98275 40.72846, -73.98292 ...  \n",
      "1  MULTIPOLYGON (((-73.98861 40.72436, -73.98865 ...  \n",
      "2  MULTIPOLYGON (((-73.98853 40.73041, -73.98862 ...  \n",
      "3  MULTIPOLYGON (((-73.98839 40.73035, -73.98851 ...  \n",
      "4  MULTIPOLYGON (((-73.98650 40.72880, -73.98668 ...  \n"
     ]
    }
   ],
   "source": [
    "import geopandas as gpd\n",
    "import matplotlib.pyplot as plt\n",
    "#gpd.set_option('display.max_columns', None)\n",
    "\n",
    "pluto = gpd.read_file('data/pluto_EV.geojson' )\n",
    "print(pluto.head())\n",
    "\n",
    "#pluto.plot(column='lot')\n",
    "\n",
    "pluto = pluto.to_json()\n",
    "\n",
    "#print(pluto)"
   ]
  },
  {
   "cell_type": "code",
   "execution_count": 12,
   "metadata": {},
   "outputs": [
    {
     "data": {
      "text/plain": [
       "'http://geojson.io/#id=gist:/522afade8792ad758ce61efff093c9e0'"
      ]
     },
     "execution_count": 12,
     "metadata": {},
     "output_type": "execute_result"
    }
   ],
   "source": [
    "import geojsonio\n",
    "\n",
    "geojsonio.display(pluto)\n",
    "\n"
   ]
  },
  {
   "cell_type": "code",
   "execution_count": null,
   "metadata": {},
   "outputs": [],
   "source": []
  }
 ],
 "metadata": {
  "kernelspec": {
   "display_name": "Python 3",
   "language": "python",
   "name": "python3"
  },
  "language_info": {
   "codemirror_mode": {
    "name": "ipython",
    "version": 3
   },
   "file_extension": ".py",
   "mimetype": "text/x-python",
   "name": "python",
   "nbconvert_exporter": "python",
   "pygments_lexer": "ipython3",
   "version": "3.7.4"
  }
 },
 "nbformat": 4,
 "nbformat_minor": 2
}
